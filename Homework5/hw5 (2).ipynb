{
  "nbformat": 4,
  "nbformat_minor": 0,
  "metadata": {
    "colab": {
      "name": "cds_hw5_point6_ourlibrary_v8.ipynb",
      "provenance": [],
      "collapsed_sections": []
    },
    "kernelspec": {
      "name": "python3",
      "display_name": "Python 3"
    },
    "language_info": {
      "name": "python"
    }
  },
  "cells": [
    {
      "cell_type": "code",
      "metadata": {
        "id": "Pc2ZWED6GNMt",
        "colab": {
          "base_uri": "https://localhost:8080/"
        },
        "outputId": "133f901c-c15d-4258-c7a8-38f67e0f9d9b"
      },
      "source": [
        "from google.colab import drive\n",
        "drive.mount('/content/drive')"
      ],
      "execution_count": 1,
      "outputs": [
        {
          "output_type": "stream",
          "name": "stdout",
          "text": [
            "Mounted at /content/drive\n"
          ]
        }
      ]
    },
    {
      "cell_type": "code",
      "metadata": {
        "id": "Op5DjKVpGUQh"
      },
      "source": [
        "import os\n",
        "os.chdir('/content/drive/My Drive/google_colab')"
      ],
      "execution_count": 2,
      "outputs": []
    },
    {
      "cell_type": "markdown",
      "metadata": {
        "id": "NEfmy4cvLfdc"
      },
      "source": [
        "**IMPORTANT:**\n",
        "Instructions to install custom python library:\n",
        "\n",
        "1.   Run code below => this will give error.\n",
        "2.   Restart kernel\n",
        "3.   Run code again => It should work.\n",
        "\n",
        "\n",
        "\n"
      ]
    },
    {
      "cell_type": "code",
      "metadata": {
        "id": "MNaWXZulGj7W",
        "colab": {
          "base_uri": "https://localhost:8080/"
        },
        "outputId": "546d5685-6297-4290-eb8d-b827f41c1b1d"
      },
      "source": [
        "!pip install \"/content/drive/My Drive/google_colab/ourpythonlibrary_v8/dist/ourpythonlib-0.1.0-py3-none-any.whl\""
      ],
      "execution_count": 1,
      "outputs": [
        {
          "output_type": "stream",
          "name": "stdout",
          "text": [
            "Processing ./drive/My Drive/google_colab/ourpythonlibrary_v8/dist/ourpythonlib-0.1.0-py3-none-any.whl\n",
            "Requirement already satisfied: pandas==1.3.3 in /usr/local/lib/python3.7/dist-packages (from ourpythonlib==0.1.0) (1.3.3)\n",
            "Requirement already satisfied: numpy==1.21.2 in /usr/local/lib/python3.7/dist-packages (from ourpythonlib==0.1.0) (1.21.2)\n",
            "Requirement already satisfied: scikit-learn==1.0.1 in /usr/local/lib/python3.7/dist-packages (from ourpythonlib==0.1.0) (1.0.1)\n",
            "Requirement already satisfied: python-dateutil>=2.7.3 in /usr/local/lib/python3.7/dist-packages (from pandas==1.3.3->ourpythonlib==0.1.0) (2.8.2)\n",
            "Requirement already satisfied: pytz>=2017.3 in /usr/local/lib/python3.7/dist-packages (from pandas==1.3.3->ourpythonlib==0.1.0) (2018.9)\n",
            "Requirement already satisfied: joblib>=0.11 in /usr/local/lib/python3.7/dist-packages (from scikit-learn==1.0.1->ourpythonlib==0.1.0) (1.1.0)\n",
            "Requirement already satisfied: threadpoolctl>=2.0.0 in /usr/local/lib/python3.7/dist-packages (from scikit-learn==1.0.1->ourpythonlib==0.1.0) (3.0.0)\n",
            "Requirement already satisfied: scipy>=1.1.0 in /usr/local/lib/python3.7/dist-packages (from scikit-learn==1.0.1->ourpythonlib==0.1.0) (1.4.1)\n",
            "Requirement already satisfied: six>=1.5 in /usr/local/lib/python3.7/dist-packages (from python-dateutil>=2.7.3->pandas==1.3.3->ourpythonlib==0.1.0) (1.15.0)\n",
            "ourpythonlib is already installed with the same version as the provided wheel. Use --force-reinstall to force an installation of the wheel.\n"
          ]
        }
      ]
    },
    {
      "cell_type": "code",
      "metadata": {
        "id": "lPKG7mynHH4f"
      },
      "source": [
        "import ourpythonlib\n",
        "from ourpythonlib import ourfunctions"
      ],
      "execution_count": 2,
      "outputs": []
    },
    {
      "cell_type": "code",
      "metadata": {
        "id": "phuHGiUbHKU8"
      },
      "source": [
        "# a) Load dataset\n",
        "path = \"/content/drive/My Drive/google_colab/sample_diabetes_mellitus_data.csv\"\n",
        "data = ourfunctions.load_dataset(path)"
      ],
      "execution_count": 4,
      "outputs": []
    },
    {
      "cell_type": "code",
      "metadata": {
        "id": "DPh1AsffHRuG"
      },
      "source": [
        "# b) Split dataset\n",
        "train, test = ourfunctions.split(data)"
      ],
      "execution_count": 5,
      "outputs": []
    },
    {
      "cell_type": "code",
      "metadata": {
        "id": "IMKqNozgHT1H"
      },
      "source": [
        "# c) Drop NA rows in 3 features\n",
        "columns = [\"age\", \"gender\", \"ethnicity\"]\n",
        "\n",
        "train_cleaned = ourfunctions.clean_rows(train, columns)\n",
        "test_cleaned = ourfunctions.clean_rows(test, columns)"
      ],
      "execution_count": 6,
      "outputs": []
    },
    {
      "cell_type": "code",
      "metadata": {
        "id": "4H_3f8qNHjVZ",
        "colab": {
          "base_uri": "https://localhost:8080/"
        },
        "outputId": "c508043b-4387-4f2e-f097-7d7d95ecb56f"
      },
      "source": [
        "# d) Fill NA with mean in 2 cols\n",
        "columns = [\"height\", \"weight\"]\n",
        "\n",
        "train_filled = ourfunctions.fill_na_mean(train_cleaned, columns)\n",
        "test_filled = ourfunctions.fill_na_mean(test_cleaned, columns)"
      ],
      "execution_count": 7,
      "outputs": [
        {
          "output_type": "stream",
          "name": "stderr",
          "text": [
            "/usr/local/lib/python3.7/dist-packages/ourpythonlib/ourfunctions.py:30: FutureWarning: Dropping of nuisance columns in DataFrame reductions (with 'numeric_only=None') is deprecated; in a future version this will raise TypeError.  Select only valid columns before calling the reduction.\n",
            "  df_filled = df[cols].fillna(df.mean())\n"
          ]
        }
      ]
    },
    {
      "cell_type": "code",
      "metadata": {
        "id": "A_43yDJPHq4d"
      },
      "source": [
        "# e) Dummies for etchnicity\n",
        "train_dummies = ourfunctions.one_hot(train_filled, \"ethn_\", [\"ethnicity\"])\n",
        "test_dummies = ourfunctions.one_hot(test_filled, \"ethn_\", [\"ethnicity\"])"
      ],
      "execution_count": 8,
      "outputs": []
    },
    {
      "cell_type": "code",
      "metadata": {
        "id": "w5AkqLK4H0Me"
      },
      "source": [
        "# f) Binary var for gender\n",
        "train_binary = ourfunctions.one_hot(train_dummies, \"sex\", [\"gender\"])\n",
        "train_binary = train_binary.iloc[:,:-1]\n",
        "\n",
        "test_binary = ourfunctions.one_hot(test_dummies, \"sex\", [\"gender\"])\n",
        "test_binary = test_binary.iloc[:,:-1]"
      ],
      "execution_count": 9,
      "outputs": []
    },
    {
      "cell_type": "code",
      "metadata": {
        "id": "JqR1A8lTH7iG"
      },
      "source": [
        "# g) Train model\n",
        "target = \"diabetes_mellitus\"\n",
        "features = ['age', 'height', 'weight', 'aids', 'cirrhosis', 'hepatic_failure', 'immunosuppression', 'leukemia', 'lymphoma', 'solid_tumor_with_metastasis']\n",
        "\n",
        "model = ourfunctions.fit_model(train_binary, target, features)"
      ],
      "execution_count": 10,
      "outputs": []
    },
    {
      "cell_type": "code",
      "metadata": {
        "colab": {
          "base_uri": "https://localhost:8080/"
        },
        "id": "3sMJ_J7tLiRS",
        "outputId": "58111516-d169-44c4-c97f-300dc519a80e"
      },
      "source": [
        "# h) Predicted proba\n",
        "# Training\n",
        "print(train_binary.shape)\n",
        "train_binary = ourfunctions.predict_y(train_binary, features, model)\n",
        "print(train_binary.shape)"
      ],
      "execution_count": 11,
      "outputs": [
        {
          "output_type": "stream",
          "name": "stdout",
          "text": [
            "(7020, 58)\n",
            "(7020, 59)\n"
          ]
        }
      ]
    },
    {
      "cell_type": "code",
      "metadata": {
        "colab": {
          "base_uri": "https://localhost:8080/"
        },
        "id": "JdsRLseNLjbW",
        "outputId": "d78d60da-1c1d-4090-ab13-30e1626ddf7b"
      },
      "source": [
        "# Test\n",
        "print(test_binary.shape)\n",
        "test_binary = ourfunctions.predict_y(test_binary, features, model)\n",
        "print(test_binary.shape)"
      ],
      "execution_count": 13,
      "outputs": [
        {
          "output_type": "stream",
          "name": "stdout",
          "text": [
            "(2348, 58)\n",
            "(2348, 59)\n"
          ]
        }
      ]
    },
    {
      "cell_type": "code",
      "metadata": {
        "id": "ca-OLxr6H_Db",
        "colab": {
          "base_uri": "https://localhost:8080/"
        },
        "outputId": "0ef7846f-4ba6-4b1c-df54-3bd5766f1cc6"
      },
      "source": [
        "# i) Metric scores\n",
        "print('Training score:')\n",
        "ourfunctions.asses(train_binary['diabetes_mellitus'], train_binary['predictions'])\n",
        "print('Test score:')\n",
        "ourfunctions.asses(test_binary['diabetes_mellitus'], test_binary['predictions'])"
      ],
      "execution_count": 14,
      "outputs": [
        {
          "output_type": "stream",
          "name": "stdout",
          "text": [
            "Training score:\n",
            "0.6680288428274727\n",
            "Test score:\n",
            "0.6773536858147138\n"
          ]
        }
      ]
    }
  ]
}